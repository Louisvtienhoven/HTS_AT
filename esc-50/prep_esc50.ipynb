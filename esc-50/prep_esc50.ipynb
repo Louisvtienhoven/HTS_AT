{
 "cells": [
  {
   "cell_type": "code",
   "execution_count": 1,
   "metadata": {
    "ExecuteTime": {
     "end_time": "2025-03-13T10:31:16.611027700Z",
     "start_time": "2025-03-13T10:31:12.315683400Z"
    }
   },
   "outputs": [],
   "source": [
    "import os \n",
    "import numpy as np\n",
    "import librosa\n",
    "dataset_path = r\"C:\\Users\\Louis\\PycharmProjects\\HTS-AT(Conda)\\HTS-Audio-Transformer\\esc-50\\ESC-50-master\"\n",
    "meta_path = os.path.join(dataset_path, \"meta\", \"esc50.csv\")\n",
    "audio_path = os.path.join(dataset_path, \"audio\")\n",
    "resample_path = \"audio_32k1/\""
   ]
  },
  {
   "cell_type": "code",
   "execution_count": 2,
   "metadata": {
    "ExecuteTime": {
     "end_time": "2025-03-13T10:31:16.663524800Z",
     "start_time": "2025-03-13T10:31:16.616498200Z"
    }
   },
   "outputs": [],
   "source": [
    "# prepare for the folder\n",
    "meta = np.loadtxt(meta_path , delimiter=',', dtype='str', skiprows=1)\n",
    "audio_list = os.listdir(audio_path)"
   ]
  },
  {
   "cell_type": "code",
   "execution_count": 3,
   "metadata": {
    "ExecuteTime": {
     "end_time": "2025-03-13T10:33:12.430441200Z",
     "start_time": "2025-03-13T10:31:16.663524800Z"
    }
   },
   "outputs": [
    {
     "name": "stdout",
     "output_type": "stream",
     "text": [
      "sox C:\\Users\\Louis\\PycharmProjects\\HTS-AT(Conda)\\HTS-Audio-Transformer\\esc-50\\ESC-50-master\\audio\\1-100032-A-0.wav -r 32000 audio_32k1/1-100032-A-0.wav\n",
      "sox C:\\Users\\Louis\\PycharmProjects\\HTS-AT(Conda)\\HTS-Audio-Transformer\\esc-50\\ESC-50-master\\audio\\1-100038-A-14.wav -r 32000 audio_32k1/1-100038-A-14.wav\n",
      "sox C:\\Users\\Louis\\PycharmProjects\\HTS-AT(Conda)\\HTS-Audio-Transformer\\esc-50\\ESC-50-master\\audio\\1-100210-A-36.wav -r 32000 audio_32k1/1-100210-A-36.wav\n",
      "sox C:\\Users\\Louis\\PycharmProjects\\HTS-AT(Conda)\\HTS-Audio-Transformer\\esc-50\\ESC-50-master\\audio\\1-100210-B-36.wav -r 32000 audio_32k1/1-100210-B-36.wav\n",
      "sox C:\\Users\\Louis\\PycharmProjects\\HTS-AT(Conda)\\HTS-Audio-Transformer\\esc-50\\ESC-50-master\\audio\\1-101296-A-19.wav -r 32000 audio_32k1/1-101296-A-19.wav\n",
      "sox C:\\Users\\Louis\\PycharmProjects\\HTS-AT(Conda)\\HTS-Audio-Transformer\\esc-50\\ESC-50-master\\audio\\1-101296-B-19.wav -r 32000 audio_32k1/1-101296-B-19.wav\n",
      "sox C:\\Users\\Louis\\PycharmProjects\\HTS-AT(Conda)\\HTS-Audio-Transformer\\esc-50\\ESC-50-master\\audio\\1-101336-A-30.wav -r 32000 audio_32k1/1-101336-A-30.wav\n",
      "sox C:\\Users\\Louis\\PycharmProjects\\HTS-AT(Conda)\\HTS-Audio-Transformer\\esc-50\\ESC-50-master\\audio\\1-101404-A-34.wav -r 32000 audio_32k1/1-101404-A-34.wav\n",
      "sox C:\\Users\\Louis\\PycharmProjects\\HTS-AT(Conda)\\HTS-Audio-Transformer\\esc-50\\ESC-50-master\\audio\\1-103298-A-9.wav -r 32000 audio_32k1/1-103298-A-9.wav\n",
      "sox C:\\Users\\Louis\\PycharmProjects\\HTS-AT(Conda)\\HTS-Audio-Transformer\\esc-50\\ESC-50-master\\audio\\1-103995-A-30.wav -r 32000 audio_32k1/1-103995-A-30.wav\n",
      "sox C:\\Users\\Louis\\PycharmProjects\\HTS-AT(Conda)\\HTS-Audio-Transformer\\esc-50\\ESC-50-master\\audio\\1-103999-A-30.wav -r 32000 audio_32k1/1-103999-A-30.wav\n",
      "sox C:\\Users\\Louis\\PycharmProjects\\HTS-AT(Conda)\\HTS-Audio-Transformer\\esc-50\\ESC-50-master\\audio\\1-104089-A-22.wav -r 32000 audio_32k1/1-104089-A-22.wav\n",
      "sox C:\\Users\\Louis\\PycharmProjects\\HTS-AT(Conda)\\HTS-Audio-Transformer\\esc-50\\ESC-50-master\\audio\\1-104089-B-22.wav -r 32000 audio_32k1/1-104089-B-22.wav\n",
      "sox C:\\Users\\Louis\\PycharmProjects\\HTS-AT(Conda)\\HTS-Audio-Transformer\\esc-50\\ESC-50-master\\audio\\1-105224-A-22.wav -r 32000 audio_32k1/1-105224-A-22.wav\n",
      "sox C:\\Users\\Louis\\PycharmProjects\\HTS-AT(Conda)\\HTS-Audio-Transformer\\esc-50\\ESC-50-master\\audio\\1-110389-A-0.wav -r 32000 audio_32k1/1-110389-A-0.wav\n",
      "sox C:\\Users\\Louis\\PycharmProjects\\HTS-AT(Conda)\\HTS-Audio-Transformer\\esc-50\\ESC-50-master\\audio\\1-110537-A-22.wav -r 32000 audio_32k1/1-110537-A-22.wav\n",
      "sox C:\\Users\\Louis\\PycharmProjects\\HTS-AT(Conda)\\HTS-Audio-Transformer\\esc-50\\ESC-50-master\\audio\\1-115521-A-19.wav -r 32000 audio_32k1/1-115521-A-19.wav\n",
      "sox C:\\Users\\Louis\\PycharmProjects\\HTS-AT(Conda)\\HTS-Audio-Transformer\\esc-50\\ESC-50-master\\audio\\1-115545-A-48.wav -r 32000 audio_32k1/1-115545-A-48.wav\n",
      "sox C:\\Users\\Louis\\PycharmProjects\\HTS-AT(Conda)\\HTS-Audio-Transformer\\esc-50\\ESC-50-master\\audio\\1-115545-B-48.wav -r 32000 audio_32k1/1-115545-B-48.wav\n",
      "sox C:\\Users\\Louis\\PycharmProjects\\HTS-AT(Conda)\\HTS-Audio-Transformer\\esc-50\\ESC-50-master\\audio\\1-115545-C-48.wav -r 32000 audio_32k1/1-115545-C-48.wav\n",
      "sox C:\\Users\\Louis\\PycharmProjects\\HTS-AT(Conda)\\HTS-Audio-Transformer\\esc-50\\ESC-50-master\\audio\\1-115546-A-48.wav -r 32000 audio_32k1/1-115546-A-48.wav\n",
      "sox C:\\Users\\Louis\\PycharmProjects\\HTS-AT(Conda)\\HTS-Audio-Transformer\\esc-50\\ESC-50-master\\audio\\1-115920-A-22.wav -r 32000 audio_32k1/1-115920-A-22.wav\n",
      "sox C:\\Users\\Louis\\PycharmProjects\\HTS-AT(Conda)\\HTS-Audio-Transformer\\esc-50\\ESC-50-master\\audio\\1-115920-B-22.wav -r 32000 audio_32k1/1-115920-B-22.wav\n",
      "sox C:\\Users\\Louis\\PycharmProjects\\HTS-AT(Conda)\\HTS-Audio-Transformer\\esc-50\\ESC-50-master\\audio\\1-115921-A-22.wav -r 32000 audio_32k1/1-115921-A-22.wav\n",
      "sox C:\\Users\\Louis\\PycharmProjects\\HTS-AT(Conda)\\HTS-Audio-Transformer\\esc-50\\ESC-50-master\\audio\\1-116765-A-41.wav -r 32000 audio_32k1/1-116765-A-41.wav\n",
      "sox C:\\Users\\Louis\\PycharmProjects\\HTS-AT(Conda)\\HTS-Audio-Transformer\\esc-50\\ESC-50-master\\audio\\1-11687-A-47.wav -r 32000 audio_32k1/1-11687-A-47.wav\n",
      "sox C:\\Users\\Louis\\PycharmProjects\\HTS-AT(Conda)\\HTS-Audio-Transformer\\esc-50\\ESC-50-master\\audio\\1-118206-A-31.wav -r 32000 audio_32k1/1-118206-A-31.wav\n",
      "sox C:\\Users\\Louis\\PycharmProjects\\HTS-AT(Conda)\\HTS-Audio-Transformer\\esc-50\\ESC-50-master\\audio\\1-118559-A-17.wav -r 32000 audio_32k1/1-118559-A-17.wav\n",
      "sox C:\\Users\\Louis\\PycharmProjects\\HTS-AT(Conda)\\HTS-Audio-Transformer\\esc-50\\ESC-50-master\\audio\\1-119125-A-45.wav -r 32000 audio_32k1/1-119125-A-45.wav\n",
      "sox C:\\Users\\Louis\\PycharmProjects\\HTS-AT(Conda)\\HTS-Audio-Transformer\\esc-50\\ESC-50-master\\audio\\1-121951-A-8.wav -r 32000 audio_32k1/1-121951-A-8.wav\n",
      "sox C:\\Users\\Louis\\PycharmProjects\\HTS-AT(Conda)\\HTS-Audio-Transformer\\esc-50\\ESC-50-master\\audio\\1-12653-A-15.wav -r 32000 audio_32k1/1-12653-A-15.wav\n",
      "sox C:\\Users\\Louis\\PycharmProjects\\HTS-AT(Conda)\\HTS-Audio-Transformer\\esc-50\\ESC-50-master\\audio\\1-12654-A-15.wav -r 32000 audio_32k1/1-12654-A-15.wav\n",
      "sox C:\\Users\\Louis\\PycharmProjects\\HTS-AT(Conda)\\HTS-Audio-Transformer\\esc-50\\ESC-50-master\\audio\\1-12654-B-15.wav -r 32000 audio_32k1/1-12654-B-15.wav\n",
      "sox C:\\Users\\Louis\\PycharmProjects\\HTS-AT(Conda)\\HTS-Audio-Transformer\\esc-50\\ESC-50-master\\audio\\1-13571-A-46.wav -r 32000 audio_32k1/1-13571-A-46.wav\n",
      "sox C:\\Users\\Louis\\PycharmProjects\\HTS-AT(Conda)\\HTS-Audio-Transformer\\esc-50\\ESC-50-master\\audio\\1-13572-A-46.wav -r 32000 audio_32k1/1-13572-A-46.wav\n",
      "sox C:\\Users\\Louis\\PycharmProjects\\HTS-AT(Conda)\\HTS-Audio-Transformer\\esc-50\\ESC-50-master\\audio\\1-13613-A-37.wav -r 32000 audio_32k1/1-13613-A-37.wav\n",
      "sox C:\\Users\\Louis\\PycharmProjects\\HTS-AT(Conda)\\HTS-Audio-Transformer\\esc-50\\ESC-50-master\\audio\\1-137-A-32.wav -r 32000 audio_32k1/1-137-A-32.wav\n",
      "sox C:\\Users\\Louis\\PycharmProjects\\HTS-AT(Conda)\\HTS-Audio-Transformer\\esc-50\\ESC-50-master\\audio\\1-137296-A-16.wav -r 32000 audio_32k1/1-137296-A-16.wav\n",
      "sox C:\\Users\\Louis\\PycharmProjects\\HTS-AT(Conda)\\HTS-Audio-Transformer\\esc-50\\ESC-50-master\\audio\\1-14262-A-37.wav -r 32000 audio_32k1/1-14262-A-37.wav\n",
      "sox C:\\Users\\Louis\\PycharmProjects\\HTS-AT(Conda)\\HTS-Audio-Transformer\\esc-50\\ESC-50-master\\audio\\1-155858-A-25.wav -r 32000 audio_32k1/1-155858-A-25.wav\n",
      "sox C:\\Users\\Louis\\PycharmProjects\\HTS-AT(Conda)\\HTS-Audio-Transformer\\esc-50\\ESC-50-master\\audio\\1-155858-B-25.wav -r 32000 audio_32k1/1-155858-B-25.wav\n",
      "sox C:\\Users\\Louis\\PycharmProjects\\HTS-AT(Conda)\\HTS-Audio-Transformer\\esc-50\\ESC-50-master\\audio\\1-155858-C-25.wav -r 32000 audio_32k1/1-155858-C-25.wav\n",
      "sox C:\\Users\\Louis\\PycharmProjects\\HTS-AT(Conda)\\HTS-Audio-Transformer\\esc-50\\ESC-50-master\\audio\\1-155858-D-25.wav -r 32000 audio_32k1/1-155858-D-25.wav\n",
      "sox C:\\Users\\Louis\\PycharmProjects\\HTS-AT(Conda)\\HTS-Audio-Transformer\\esc-50\\ESC-50-master\\audio\\1-155858-E-25.wav -r 32000 audio_32k1/1-155858-E-25.wav\n",
      "sox C:\\Users\\Louis\\PycharmProjects\\HTS-AT(Conda)\\HTS-Audio-Transformer\\esc-50\\ESC-50-master\\audio\\1-155858-F-25.wav -r 32000 audio_32k1/1-155858-F-25.wav\n",
      "sox C:\\Users\\Louis\\PycharmProjects\\HTS-AT(Conda)\\HTS-Audio-Transformer\\esc-50\\ESC-50-master\\audio\\1-15689-A-4.wav -r 32000 audio_32k1/1-15689-A-4.wav\n",
      "sox C:\\Users\\Louis\\PycharmProjects\\HTS-AT(Conda)\\HTS-Audio-Transformer\\esc-50\\ESC-50-master\\audio\\1-15689-B-4.wav -r 32000 audio_32k1/1-15689-B-4.wav\n",
      "sox C:\\Users\\Louis\\PycharmProjects\\HTS-AT(Conda)\\HTS-Audio-Transformer\\esc-50\\ESC-50-master\\audio\\1-160563-A-48.wav -r 32000 audio_32k1/1-160563-A-48.wav\n",
      "sox C:\\Users\\Louis\\PycharmProjects\\HTS-AT(Conda)\\HTS-Audio-Transformer\\esc-50\\ESC-50-master\\audio\\1-160563-B-48.wav -r 32000 audio_32k1/1-160563-B-48.wav\n",
      "sox C:\\Users\\Louis\\PycharmProjects\\HTS-AT(Conda)\\HTS-Audio-Transformer\\esc-50\\ESC-50-master\\audio\\1-16568-A-3.wav -r 32000 audio_32k1/1-16568-A-3.wav\n",
      "sox C:\\Users\\Louis\\PycharmProjects\\HTS-AT(Conda)\\HTS-Audio-Transformer\\esc-50\\ESC-50-master\\audio\\1-16746-A-15.wav -r 32000 audio_32k1/1-16746-A-15.wav\n",
      "sox C:\\Users\\Louis\\PycharmProjects\\HTS-AT(Conda)\\HTS-Audio-Transformer\\esc-50\\ESC-50-master\\audio\\1-17092-A-27.wav -r 32000 audio_32k1/1-17092-A-27.wav\n",
      "sox C:\\Users\\Louis\\PycharmProjects\\HTS-AT(Conda)\\HTS-Audio-Transformer\\esc-50\\ESC-50-master\\audio\\1-17092-B-27.wav -r 32000 audio_32k1/1-17092-B-27.wav\n",
      "sox C:\\Users\\Louis\\PycharmProjects\\HTS-AT(Conda)\\HTS-Audio-Transformer\\esc-50\\ESC-50-master\\audio\\1-17124-A-43.wav -r 32000 audio_32k1/1-17124-A-43.wav\n",
      "sox C:\\Users\\Louis\\PycharmProjects\\HTS-AT(Conda)\\HTS-Audio-Transformer\\esc-50\\ESC-50-master\\audio\\1-17150-A-12.wav -r 32000 audio_32k1/1-17150-A-12.wav\n",
      "sox C:\\Users\\Louis\\PycharmProjects\\HTS-AT(Conda)\\HTS-Audio-Transformer\\esc-50\\ESC-50-master\\audio\\1-172649-A-40.wav -r 32000 audio_32k1/1-172649-A-40.wav\n",
      "sox C:\\Users\\Louis\\PycharmProjects\\HTS-AT(Conda)\\HTS-Audio-Transformer\\esc-50\\ESC-50-master\\audio\\1-172649-B-40.wav -r 32000 audio_32k1/1-172649-B-40.wav\n",
      "sox C:\\Users\\Louis\\PycharmProjects\\HTS-AT(Conda)\\HTS-Audio-Transformer\\esc-50\\ESC-50-master\\audio\\1-172649-C-40.wav -r 32000 audio_32k1/1-172649-C-40.wav\n",
      "sox C:\\Users\\Louis\\PycharmProjects\\HTS-AT(Conda)\\HTS-Audio-Transformer\\esc-50\\ESC-50-master\\audio\\1-172649-D-40.wav -r 32000 audio_32k1/1-172649-D-40.wav\n",
      "sox C:\\Users\\Louis\\PycharmProjects\\HTS-AT(Conda)\\HTS-Audio-Transformer\\esc-50\\ESC-50-master\\audio\\1-172649-E-40.wav -r 32000 audio_32k1/1-172649-E-40.wav\n",
      "sox C:\\Users\\Louis\\PycharmProjects\\HTS-AT(Conda)\\HTS-Audio-Transformer\\esc-50\\ESC-50-master\\audio\\1-172649-F-40.wav -r 32000 audio_32k1/1-172649-F-40.wav\n",
      "sox C:\\Users\\Louis\\PycharmProjects\\HTS-AT(Conda)\\HTS-Audio-Transformer\\esc-50\\ESC-50-master\\audio\\1-17295-A-29.wav -r 32000 audio_32k1/1-17295-A-29.wav\n",
      "sox C:\\Users\\Louis\\PycharmProjects\\HTS-AT(Conda)\\HTS-Audio-Transformer\\esc-50\\ESC-50-master\\audio\\1-17367-A-10.wav -r 32000 audio_32k1/1-17367-A-10.wav\n",
      "sox C:\\Users\\Louis\\PycharmProjects\\HTS-AT(Conda)\\HTS-Audio-Transformer\\esc-50\\ESC-50-master\\audio\\1-17565-A-12.wav -r 32000 audio_32k1/1-17565-A-12.wav\n",
      "sox C:\\Users\\Louis\\PycharmProjects\\HTS-AT(Conda)\\HTS-Audio-Transformer\\esc-50\\ESC-50-master\\audio\\1-17585-A-7.wav -r 32000 audio_32k1/1-17585-A-7.wav\n",
      "sox C:\\Users\\Louis\\PycharmProjects\\HTS-AT(Conda)\\HTS-Audio-Transformer\\esc-50\\ESC-50-master\\audio\\1-17742-A-12.wav -r 32000 audio_32k1/1-17742-A-12.wav\n",
      "sox C:\\Users\\Louis\\PycharmProjects\\HTS-AT(Conda)\\HTS-Audio-Transformer\\esc-50\\ESC-50-master\\audio\\1-17808-A-12.wav -r 32000 audio_32k1/1-17808-A-12.wav\n",
      "sox C:\\Users\\Louis\\PycharmProjects\\HTS-AT(Conda)\\HTS-Audio-Transformer\\esc-50\\ESC-50-master\\audio\\1-17808-B-12.wav -r 32000 audio_32k1/1-17808-B-12.wav\n",
      "sox C:\\Users\\Louis\\PycharmProjects\\HTS-AT(Conda)\\HTS-Audio-Transformer\\esc-50\\ESC-50-master\\audio\\1-1791-A-26.wav -r 32000 audio_32k1/1-1791-A-26.wav\n",
      "sox C:\\Users\\Louis\\PycharmProjects\\HTS-AT(Conda)\\HTS-Audio-Transformer\\esc-50\\ESC-50-master\\audio\\1-17970-A-4.wav -r 32000 audio_32k1/1-17970-A-4.wav\n",
      "sox C:\\Users\\Louis\\PycharmProjects\\HTS-AT(Conda)\\HTS-Audio-Transformer\\esc-50\\ESC-50-master\\audio\\1-18074-A-6.wav -r 32000 audio_32k1/1-18074-A-6.wav\n",
      "sox C:\\Users\\Louis\\PycharmProjects\\HTS-AT(Conda)\\HTS-Audio-Transformer\\esc-50\\ESC-50-master\\audio\\1-18074-B-6.wav -r 32000 audio_32k1/1-18074-B-6.wav\n",
      "sox C:\\Users\\Louis\\PycharmProjects\\HTS-AT(Conda)\\HTS-Audio-Transformer\\esc-50\\ESC-50-master\\audio\\1-181071-A-40.wav -r 32000 audio_32k1/1-181071-A-40.wav\n",
      "sox C:\\Users\\Louis\\PycharmProjects\\HTS-AT(Conda)\\HTS-Audio-Transformer\\esc-50\\ESC-50-master\\audio\\1-181071-B-40.wav -r 32000 audio_32k1/1-181071-B-40.wav\n",
      "sox C:\\Users\\Louis\\PycharmProjects\\HTS-AT(Conda)\\HTS-Audio-Transformer\\esc-50\\ESC-50-master\\audio\\1-18527-A-44.wav -r 32000 audio_32k1/1-18527-A-44.wav\n",
      "sox C:\\Users\\Louis\\PycharmProjects\\HTS-AT(Conda)\\HTS-Audio-Transformer\\esc-50\\ESC-50-master\\audio\\1-18527-B-44.wav -r 32000 audio_32k1/1-18527-B-44.wav\n",
      "sox C:\\Users\\Louis\\PycharmProjects\\HTS-AT(Conda)\\HTS-Audio-Transformer\\esc-50\\ESC-50-master\\audio\\1-18631-A-23.wav -r 32000 audio_32k1/1-18631-A-23.wav\n",
      "sox C:\\Users\\Louis\\PycharmProjects\\HTS-AT(Conda)\\HTS-Audio-Transformer\\esc-50\\ESC-50-master\\audio\\1-18655-A-31.wav -r 32000 audio_32k1/1-18655-A-31.wav\n",
      "sox C:\\Users\\Louis\\PycharmProjects\\HTS-AT(Conda)\\HTS-Audio-Transformer\\esc-50\\ESC-50-master\\audio\\1-187207-A-20.wav -r 32000 audio_32k1/1-187207-A-20.wav\n",
      "sox C:\\Users\\Louis\\PycharmProjects\\HTS-AT(Conda)\\HTS-Audio-Transformer\\esc-50\\ESC-50-master\\audio\\1-18755-A-4.wav -r 32000 audio_32k1/1-18755-A-4.wav\n",
      "sox C:\\Users\\Louis\\PycharmProjects\\HTS-AT(Conda)\\HTS-Audio-Transformer\\esc-50\\ESC-50-master\\audio\\1-18755-B-4.wav -r 32000 audio_32k1/1-18755-B-4.wav\n",
      "sox C:\\Users\\Louis\\PycharmProjects\\HTS-AT(Conda)\\HTS-Audio-Transformer\\esc-50\\ESC-50-master\\audio\\1-18757-A-4.wav -r 32000 audio_32k1/1-18757-A-4.wav\n",
      "sox C:\\Users\\Louis\\PycharmProjects\\HTS-AT(Conda)\\HTS-Audio-Transformer\\esc-50\\ESC-50-master\\audio\\1-18810-A-49.wav -r 32000 audio_32k1/1-18810-A-49.wav\n",
      "sox C:\\Users\\Louis\\PycharmProjects\\HTS-AT(Conda)\\HTS-Audio-Transformer\\esc-50\\ESC-50-master\\audio\\1-19026-A-43.wav -r 32000 audio_32k1/1-19026-A-43.wav\n",
      "sox C:\\Users\\Louis\\PycharmProjects\\HTS-AT(Conda)\\HTS-Audio-Transformer\\esc-50\\ESC-50-master\\audio\\1-19111-A-24.wav -r 32000 audio_32k1/1-19111-A-24.wav\n",
      "sox C:\\Users\\Louis\\PycharmProjects\\HTS-AT(Conda)\\HTS-Audio-Transformer\\esc-50\\ESC-50-master\\audio\\1-19118-A-24.wav -r 32000 audio_32k1/1-19118-A-24.wav\n",
      "sox C:\\Users\\Louis\\PycharmProjects\\HTS-AT(Conda)\\HTS-Audio-Transformer\\esc-50\\ESC-50-master\\audio\\1-19501-A-7.wav -r 32000 audio_32k1/1-19501-A-7.wav\n",
      "sox C:\\Users\\Louis\\PycharmProjects\\HTS-AT(Conda)\\HTS-Audio-Transformer\\esc-50\\ESC-50-master\\audio\\1-196660-A-8.wav -r 32000 audio_32k1/1-196660-A-8.wav\n",
      "sox C:\\Users\\Louis\\PycharmProjects\\HTS-AT(Conda)\\HTS-Audio-Transformer\\esc-50\\ESC-50-master\\audio\\1-196660-B-8.wav -r 32000 audio_32k1/1-196660-B-8.wav\n",
      "sox C:\\Users\\Louis\\PycharmProjects\\HTS-AT(Conda)\\HTS-Audio-Transformer\\esc-50\\ESC-50-master\\audio\\1-19840-A-36.wav -r 32000 audio_32k1/1-19840-A-36.wav\n",
      "sox C:\\Users\\Louis\\PycharmProjects\\HTS-AT(Conda)\\HTS-Audio-Transformer\\esc-50\\ESC-50-master\\audio\\1-19872-A-36.wav -r 32000 audio_32k1/1-19872-A-36.wav\n",
      "sox C:\\Users\\Louis\\PycharmProjects\\HTS-AT(Conda)\\HTS-Audio-Transformer\\esc-50\\ESC-50-master\\audio\\1-19872-B-36.wav -r 32000 audio_32k1/1-19872-B-36.wav\n",
      "sox C:\\Users\\Louis\\PycharmProjects\\HTS-AT(Conda)\\HTS-Audio-Transformer\\esc-50\\ESC-50-master\\audio\\1-19898-A-41.wav -r 32000 audio_32k1/1-19898-A-41.wav\n"
     ]
    },
    {
     "ename": "KeyboardInterrupt",
     "evalue": "",
     "output_type": "error",
     "traceback": [
      "\u001B[1;31m---------------------------------------------------------------------------\u001B[0m",
      "\u001B[1;31mKeyboardInterrupt\u001B[0m                         Traceback (most recent call last)",
      "Cell \u001B[1;32mIn[3], line 8\u001B[0m\n\u001B[0;32m      6\u001B[0m resample_f \u001B[38;5;241m=\u001B[39m os\u001B[38;5;241m.\u001B[39mpath\u001B[38;5;241m.\u001B[39mjoin(resample_path, f)\n\u001B[0;32m      7\u001B[0m \u001B[38;5;28mprint\u001B[39m(\u001B[38;5;124m'\u001B[39m\u001B[38;5;124msox \u001B[39m\u001B[38;5;124m'\u001B[39m \u001B[38;5;241m+\u001B[39m full_f \u001B[38;5;241m+\u001B[39m \u001B[38;5;124m'\u001B[39m\u001B[38;5;124m -r 32000 \u001B[39m\u001B[38;5;124m'\u001B[39m \u001B[38;5;241m+\u001B[39m resample_f)\n\u001B[1;32m----> 8\u001B[0m \u001B[43mos\u001B[49m\u001B[38;5;241;43m.\u001B[39;49m\u001B[43msystem\u001B[49m\u001B[43m(\u001B[49m\u001B[38;5;124;43m'\u001B[39;49m\u001B[38;5;124;43msox \u001B[39;49m\u001B[38;5;124;43m'\u001B[39;49m\u001B[43m \u001B[49m\u001B[38;5;241;43m+\u001B[39;49m\u001B[43m \u001B[49m\u001B[43mfull_f\u001B[49m\u001B[43m \u001B[49m\u001B[38;5;241;43m+\u001B[39;49m\u001B[43m \u001B[49m\u001B[38;5;124;43m'\u001B[39;49m\u001B[38;5;124;43m -r 32000 \u001B[39;49m\u001B[38;5;124;43m'\u001B[39;49m\u001B[43m \u001B[49m\u001B[38;5;241;43m+\u001B[39;49m\u001B[43m \u001B[49m\u001B[43mresample_f\u001B[49m\u001B[43m)\u001B[49m\n",
      "\u001B[1;31mKeyboardInterrupt\u001B[0m: "
     ]
    }
   ],
   "source": [
    "# resample\n",
    "#for f in audio_list:\n",
    "os.makedirs(resample_path, exist_ok=True)\n",
    "for f in audio_list: \n",
    "    full_f = os.path.join(audio_path, f)\n",
    "    resample_f = os.path.join(resample_path, f)\n",
    "    print('sox ' + full_f + ' -r 32000 ' + resample_f)\n",
    "    os.system('sox ' + full_f + ' -r 32000 ' + resample_f)"
   ]
  },
  {
   "cell_type": "code",
   "outputs": [],
   "source": [
    "# # Resample only the first five audio files\n",
    "# os.makedirs(resample_path, exist_ok=True)\n",
    "# for i, f in enumerate(audio_list[:5]):\n",
    "#     full_f = os.path.join(audio_path, f)\n",
    "#     resample_f = os.path.join(resample_path, f)\n",
    "#     print('sox ' + full_f + ' -r 32000 ' + resample_f)\n",
    "#     os.system('sox ' + full_f + ' -r 32000 ' + resample_f)"
   ],
   "metadata": {
    "collapsed": false,
    "ExecuteTime": {
     "start_time": "2025-03-13T10:33:12.434744400Z"
    }
   },
   "execution_count": null
  },
  {
   "cell_type": "code",
   "execution_count": null,
   "metadata": {
    "ExecuteTime": {
     "end_time": "2025-03-13T10:33:12.436991200Z",
     "start_time": "2025-03-13T10:33:12.435851700Z"
    }
   },
   "outputs": [],
   "source": [
    "# name fold target category esc10 srcfile take\n",
    "output_dict = [[] for _ in range(5)]\n",
    "for label in meta:\n",
    "    name = label[0]\n",
    "    fold = label[1]\n",
    "    target = label[2]\n",
    "    y, sr = librosa.load(os.path.join(resample_path, name), sr = None)\n",
    "    output_dict[int(fold) - 1].append(\n",
    "        {\n",
    "            \"name\": name,\n",
    "            \"target\": int(target),\n",
    "            \"waveform\": y\n",
    "        }\n",
    "    )\n",
    "    "
   ]
  },
  {
   "cell_type": "code",
   "outputs": [],
   "source": [
    "# Save the output_dict with dtype=object\n",
    "np.save(\"esc-50-data.npy\", np.array(output_dict, dtype=object))"
   ],
   "metadata": {
    "collapsed": false,
    "ExecuteTime": {
     "start_time": "2025-03-13T10:33:12.438114Z"
    }
   },
   "execution_count": null
  },
  {
   "cell_type": "code",
   "outputs": [],
   "source": [],
   "metadata": {
    "collapsed": false,
    "ExecuteTime": {
     "start_time": "2025-03-13T10:33:12.439248Z"
    }
   }
  }
 ],
 "metadata": {
  "kernelspec": {
   "display_name": "Python 3.8.13 ('kechen_htsat')",
   "language": "python",
   "name": "python3"
  },
  "language_info": {
   "codemirror_mode": {
    "name": "ipython",
    "version": 3
   },
   "file_extension": ".py",
   "mimetype": "text/x-python",
   "name": "python",
   "nbconvert_exporter": "python",
   "pygments_lexer": "ipython3",
   "version": "3.8.13"
  },
  "vscode": {
   "interpreter": {
    "hash": "cbf651ad57764a85bd0d6253f55158c06e8f62339527fb5be4597f7fba08e70b"
   }
  }
 },
 "nbformat": 4,
 "nbformat_minor": 4
}
